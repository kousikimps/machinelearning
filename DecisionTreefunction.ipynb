{
 "cells": [
  {
   "cell_type": "code",
   "execution_count": 1,
   "metadata": {},
   "outputs": [],
   "source": [
    "#Step 1 - function call required\n",
    "def read_files(filepath):\n",
    "    '''\n",
    "    input - File path of input file. \n",
    "    read file and convert into 2d array.\n",
    "    handles only csv format.\n",
    "    returns Column header and dataset into two different variable.\n",
    "    \n",
    "    '''\n",
    "    datastore=[]\n",
    "    with open(filepath,'r') as files:\n",
    "        for line in files.readlines():\n",
    "            lines=line.strip().split(',')\n",
    "            for i in range(len(lines)):\n",
    "                if len(lines[i])==0 or len(lines[i])== None:\n",
    "                    lines[i]=None\n",
    "                elif lines[i][0]=='\"' or lines[i][-1]=='\"':\n",
    "                    lines[i]=lines[i][1:-1]\n",
    "                    value=digit_check(lines[i])\n",
    "                else:\n",
    "                    value=digit_check(lines[i])\n",
    "                if value=='int':\n",
    "                    lines[i]=int(lines[i])\n",
    "                elif value=='float':\n",
    "                    lines[i]=float(lines[i])\n",
    "                else:\n",
    "                    lines[i]=lines[i]\n",
    "            datastore.append(lines)\n",
    "    columns=datastore[0]\n",
    "    dataset=datastore[1:]\n",
    "    return columns,dataset"
   ]
  },
  {
   "cell_type": "code",
   "execution_count": 2,
   "metadata": {},
   "outputs": [],
   "source": [
    "#Step 1.1\n",
    "def digit_check(user_input):\n",
    "    '''\n",
    "    convert string digits into integer / float.\n",
    "    inputs each element of 2d array.\n",
    "    return int/float/string to read_files function.\n",
    "    required - 2d array reads all elements as string char.\n",
    "    '''\n",
    "    try:\n",
    "       val = int(user_input)\n",
    "       return 'int'\n",
    "    except ValueError:\n",
    "      try:\n",
    "        val = float(user_input)\n",
    "        return 'float'\n",
    "      except ValueError:\n",
    "          return 'string'"
   ]
  },
  {
   "cell_type": "code",
   "execution_count": 3,
   "metadata": {},
   "outputs": [],
   "source": [
    "#Step 2 - Analysis and Null Value Replacement / Feature Selection"
   ]
  },
  {
   "cell_type": "code",
   "execution_count": 4,
   "metadata": {},
   "outputs": [],
   "source": [
    "#Step 3.1\n",
    "import time\n",
    "def random_number(low, high):\n",
    "    \"\"\"\n",
    "    a time based random number generator \n",
    "    uses the random time between a user's input events\n",
    "    returns an integer between low and high-1\n",
    "    \"\"\"\n",
    "    return int(low + int(time.time()*1000) % (high - low))"
   ]
  },
  {
   "cell_type": "code",
   "execution_count": 5,
   "metadata": {},
   "outputs": [],
   "source": [
    "#Step 3.2\n",
    "def random_indices(high,test_size):\n",
    "    '''\n",
    "    generates random sample index.\n",
    "    inputs length of dataset and sample size\n",
    "    returns radom indices\n",
    "    \n",
    "    '''\n",
    "    test_indices=[]\n",
    "    while len(test_indices)<test_size:\n",
    "        indices=random_number(len(test_indices),high)\n",
    "        test_indices.append(indices)\n",
    "        test_indices = list( dict.fromkeys(test_indices) )\n",
    "    test_indices.sort()\n",
    "    return test_indices"
   ]
  },
  {
   "cell_type": "code",
   "execution_count": 6,
   "metadata": {},
   "outputs": [],
   "source": [
    "# Step 3 - function call required\n",
    "def test_train_split(df,test_size):\n",
    "    '''\n",
    "    input dataset and test size\n",
    "    returns test and training data set\n",
    "    \n",
    "    '''\n",
    "    high=len(df)\n",
    "    train_df=[]\n",
    "    if isinstance(test_size,float):\n",
    "        test_size=round(test_size*len(df))\n",
    "    test_indices = random_indices(high,test_size)\n",
    "    test_df=[df[value] for value in test_indices]\n",
    "    for i in range(len(df)):\n",
    "        if i not in test_indices:\n",
    "            train_df.append(df[i])\n",
    "    return test_df,train_df"
   ]
  },
  {
   "cell_type": "code",
   "execution_count": 7,
   "metadata": {},
   "outputs": [
    {
     "name": "stdout",
     "output_type": "stream",
     "text": [
      "7197\n",
      "6477\n",
      "720\n"
     ]
    }
   ],
   "source": [
    "##Demo - Categtorical Dataset\n",
    "columname,dataset=read_files('AppleStore.csv')\n",
    "test_df,train_df=test_train_split(dataset,.10)\n",
    "print (len(dataset))\n",
    "print (len(train_df))\n",
    "print (len(test_df))"
   ]
  },
  {
   "cell_type": "code",
   "execution_count": 8,
   "metadata": {},
   "outputs": [
    {
     "name": "stdout",
     "output_type": "stream",
     "text": [
      "30000\n",
      "6477\n",
      "720\n",
      "['ID', 'LIMIT_BAL', 'SEX', 'EDUCATION', 'MARRIAGE', 'AGE', 'PAY_0', 'PAY_2', 'PAY_3', 'PAY_4', 'PAY_5', 'PAY_6', 'BILL_AMT1', 'BILL_AMT2', 'BILL_AMT3', 'BILL_AMT4', 'BILL_AMT5', 'BILL_AMT6', 'PAY_AMT1', 'PAY_AMT2', 'PAY_AMT3', 'PAY_AMT4', 'PAY_AMT5', 'PAY_AMT6', 'default.payment.next.month']\n",
      "\n",
      "\n",
      "[[2, 120000, 2, 2, 2, 26, -1, 2, 0, 0, 0, 2, 2682, 1725, 2682, 3272, 3455, 3261, 0, 1000, 1000, 1000, 0, 2000, 1], [3, 90000, 2, 2, 2, 34, 0, 0, 0, 0, 0, 0, 29239, 14027, 13559, 14331, 14948, 15549, 1518, 1500, 1000, 1000, 1000, 5000, 0], [4, 50000, 2, 2, 1, 37, 0, 0, 0, 0, 0, 0, 46990, 48233, 49291, 28314, 28959, 29547, 2000, 2019, 1200, 1100, 1069, 1000, 0], [5, 50000, 1, 2, 1, 57, -1, 0, -1, 0, 0, 0, 8617, 5670, 35835, 20940, 19146, 19131, 2000, 36681, 10000, 9000, 689, 679, 0], [6, 50000, 1, 1, 2, 37, 0, 0, 0, 0, 0, 0, 64400, 57069, 57608, 19394, 19619, 20024, 2500, 1815, 657, 1000, 1000, 800, 0], [7, 500000.0, 1, 1, 2, 29, 0, 0, 0, 0, 0, 0, 367965, 412023, 445007, 542653, 483003, 473944, 55000, 40000, 38000, 20239, 13750, 13770, 0], [8, 100000.0, 2, 2, 2, 23, 0, -1, -1, 0, 0, -1, 11876, 380, 601, 221, -159, 567, 380, 601, 0, 581, 1687, 1542, 0], [9, 140000, 2, 3, 1, 28, 0, 0, 2, 0, 0, 0, 11285, 14096, 12108, 12211, 11793, 3719, 3329, 0, 432, 1000, 1000, 1000, 0], [10, 20000, 1, 3, 2, 35, -2, -2, -2, -2, -1, -1, 0, 0, 0, 0, 13007, 13912, 0, 0, 0, 13007, 1122, 0, 0], [11, 200000.0, 2, 3, 2, 34, 0, 0, 2, 0, 0, -1, 11073, 9787, 5535, 2513, 1828, 3731, 2306, 12, 50, 300, 3738, 66, 0], [12, 260000, 2, 1, 2, 51, -1, -1, -1, -1, -1, 2, 12261, 21670, 9966, 8517, 22287, 13668, 21818, 9966, 8583, 22301, 0, 3640, 0], [13, 630000, 2, 2, 2, 41, -1, 0, -1, -1, -1, -1, 12137, 6500, 6500, 6500, 6500, 2870, 1000, 6500, 6500, 6500, 2870, 0, 0], [14, 70000, 1, 2, 2, 30, 1, 2, 2, 0, 0, 2, 65802, 67369, 65701, 66782, 36137, 36894, 3200, 0, 3000, 3000, 1500, 0, 1], [15, 250000, 1, 1, 2, 29, 0, 0, 0, 0, 0, 0, 70887, 67060, 63561, 59696, 56875, 55512, 3000, 3000, 3000, 3000, 3000, 3000, 0], [16, 50000, 2, 3, 3, 23, 1, 2, 0, 0, 0, 0, 50614, 29173, 28116, 28771, 29531, 30211, 0, 1500, 1100, 1200, 1300, 1100, 0], [17, 20000, 1, 1, 2, 24, 0, 0, 2, 2, 2, 2, 15376, 18010, 17428, 18338, 17905, 19104, 3200, 0, 1500, 0, 1650, 0, 1], [18, 320000, 1, 1, 1, 49, 0, 0, 0, -1, -1, -1, 253286, 246536, 194663, 70074, 5856, 195599, 10358, 10000, 75940, 20000, 195599, 50000, 0], [19, 360000, 2, 1, 1, 49, 1, -2, -2, -2, -2, -2, 0, 0, 0, 0, 0, 0, 0, 0, 0, 0, 0, 0, 0], [20, 180000, 2, 1, 2, 29, 1, -2, -2, -2, -2, -2, 0, 0, 0, 0, 0, 0, 0, 0, 0, 0, 0, 0, 0]]\n"
     ]
    }
   ],
   "source": [
    "###Demo - Numerical Dataset\n",
    "columname,dataset=read_files('UCI_Credit_Card.csv')\n",
    "print (len(dataset))\n",
    "print (len(train_df))\n",
    "print (len(test_df))\n",
    "\n",
    "print(columname)\n",
    "print(\"\\n\")\n",
    "print(dataset[1:20])"
   ]
  }
 ],
 "metadata": {
  "kernelspec": {
   "display_name": "Python 3",
   "language": "python",
   "name": "python3"
  },
  "language_info": {
   "codemirror_mode": {
    "name": "ipython",
    "version": 3
   },
   "file_extension": ".py",
   "mimetype": "text/x-python",
   "name": "python",
   "nbconvert_exporter": "python",
   "pygments_lexer": "ipython3",
   "version": "3.7.4"
  }
 },
 "nbformat": 4,
 "nbformat_minor": 2
}
